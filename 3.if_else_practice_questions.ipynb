{
 "cells": [
  {
   "cell_type": "code",
   "execution_count": 1,
   "id": "257bad22-bf52-4db4-86ae-810009549cca",
   "metadata": {},
   "outputs": [],
   "source": [
    "# Write a Python program that takes an integer input from the user and checks if it is even or odd. Print a message indicating the result."
   ]
  },
  {
   "cell_type": "code",
   "execution_count": 4,
   "id": "997c22fe-4669-4514-bf7f-b91a3af76cec",
   "metadata": {},
   "outputs": [
    {
     "name": "stdin",
     "output_type": "stream",
     "text": [
      "Enter the number:  1\n"
     ]
    },
    {
     "name": "stdout",
     "output_type": "stream",
     "text": [
      "1  is an odd number\n"
     ]
    }
   ],
   "source": [
    "num1=int(input(\"Enter the number: \"))\n",
    "print(num1,\" is an even number\") if num1%2==0 else print(num1,\" is an odd number\")"
   ]
  },
  {
   "cell_type": "code",
   "execution_count": 9,
   "id": "007aeba8-eb40-4434-b351-f99cf0b6691f",
   "metadata": {},
   "outputs": [
    {
     "name": "stdin",
     "output_type": "stream",
     "text": [
      "Enter the number:  65\n"
     ]
    },
    {
     "name": "stdout",
     "output_type": "stream",
     "text": [
      "you got grade C\n"
     ]
    }
   ],
   "source": [
    "# Write a Python program that takes a student's score (integer) as input and prints the grade based on the following conditions:\n",
    "\n",
    "# Score >= 90: \"Grade: A\"\n",
    "# Score >= 75 and < 90: \"Grade: B\"\n",
    "# Score >= 50 and < 75: \"Grade: C\"\n",
    "# Score < 50: \"Grade: F\"\n",
    "\n",
    "num1=int(input(\"Enter the number: \"))\n",
    "if num1>=90:\n",
    "    print(\"You got Grade A\")\n",
    "elif num1>=75 and num1<90:\n",
    "    print(\"you got grade B\")\n",
    "elif num1>=50 and num1<75:\n",
    "    print(\"you got grade C\")\n",
    "else:\n",
    "    print(\"You got grade F\")"
   ]
  },
  {
   "cell_type": "code",
   "execution_count": null,
   "id": "83bcaa46-a793-479e-869c-86cbae0f6c4b",
   "metadata": {},
   "outputs": [],
   "source": []
  }
 ],
 "metadata": {
  "kernelspec": {
   "display_name": "Python 3 (ipykernel)",
   "language": "python",
   "name": "python3"
  },
  "language_info": {
   "codemirror_mode": {
    "name": "ipython",
    "version": 3
   },
   "file_extension": ".py",
   "mimetype": "text/x-python",
   "name": "python",
   "nbconvert_exporter": "python",
   "pygments_lexer": "ipython3",
   "version": "3.13.1"
  }
 },
 "nbformat": 4,
 "nbformat_minor": 5
}
