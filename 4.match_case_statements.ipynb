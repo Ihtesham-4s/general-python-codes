{
 "cells": [
  {
   "cell_type": "code",
   "execution_count": 1,
   "id": "84d78699-09d9-4d8a-9e63-7074cab7795a",
   "metadata": {},
   "outputs": [],
   "source": [
    "# Match case statements in python\n",
    "#It allows pattern matching, which allows you to match values and structures against specified patterns, similar to switch-case statements."
   ]
  },
  {
   "cell_type": "code",
   "execution_count": 2,
   "id": "c8575835-fb23-4cdf-8905-2b42e6ffef88",
   "metadata": {},
   "outputs": [
    {
     "name": "stdout",
     "output_type": "stream",
     "text": [
      "Not found\n"
     ]
    }
   ],
   "source": [
    "#Simple match-case example\n",
    "status_code=404\n",
    "match status_code:\n",
    "    case 200:\n",
    "        print(\"OK\")\n",
    "    case 404:\n",
    "        print(\"Not found\")\n",
    "    case _:\n",
    "        print(\"unknown status code\")\n"
   ]
  },
  {
   "cell_type": "code",
   "execution_count": 3,
   "id": "3c1608af-a166-4568-b00c-ddd2f02c7f99",
   "metadata": {},
   "outputs": [
    {
     "name": "stdout",
     "output_type": "stream",
     "text": [
      "Positive number\n"
     ]
    }
   ],
   "source": [
    "#Guard clauses with if \n",
    "num=42\n",
    "match num:\n",
    "    case n if n>0:\n",
    "        print(\"Positive number\")\n",
    "    case n if n<0:\n",
    "        print(\"Negative number\")\n",
    "    case _:\n",
    "        print(\"Zero\")"
   ]
  },
  {
   "cell_type": "code",
   "execution_count": null,
   "id": "9eb95025-2159-4400-9502-5e32ee31d2b4",
   "metadata": {},
   "outputs": [],
   "source": []
  }
 ],
 "metadata": {
  "kernelspec": {
   "display_name": "Python 3 (ipykernel)",
   "language": "python",
   "name": "python3"
  },
  "language_info": {
   "codemirror_mode": {
    "name": "ipython",
    "version": 3
   },
   "file_extension": ".py",
   "mimetype": "text/x-python",
   "name": "python",
   "nbconvert_exporter": "python",
   "pygments_lexer": "ipython3",
   "version": "3.13.1"
  }
 },
 "nbformat": 4,
 "nbformat_minor": 5
}
