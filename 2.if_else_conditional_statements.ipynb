{
 "cells": [
  {
   "cell_type": "markdown",
   "id": "766e7951-a698-4922-8836-9fe349bc6e57",
   "metadata": {},
   "source": [
    "Practice Questions"
   ]
  },
  {
   "cell_type": "code",
   "execution_count": null,
   "id": "fadbc06e-14b7-4071-aec1-cf2b46122cb5",
   "metadata": {},
   "outputs": [],
   "source": [
    "# 1 Check positive or negative number\n",
    "# Write a program to input a number and check whether it is positive, negative, or zero using an if-else statement."
   ]
  },
  {
   "cell_type": "code",
   "execution_count": 5,
   "id": "391c9e5e-8419-486e-8b09-d063e9193eed",
   "metadata": {},
   "outputs": [
    {
     "name": "stdin",
     "output_type": "stream",
     "text": [
      "Enter the number:  5\n"
     ]
    },
    {
     "name": "stdout",
     "output_type": "stream",
     "text": [
      "5  is a positive number\n"
     ]
    }
   ],
   "source": [
    "num1=int(input(\"Enter the number: \"))\n",
    "if num1>0:\n",
    "    print(num1,\" is a positive number\")\n",
    "elif num1<0:\n",
    "    print(num1,\" is a negative number\")\n",
    "else:\n",
    "    print(num1,\" it is zero\")"
   ]
  },
  {
   "cell_type": "code",
   "execution_count": null,
   "id": "14597c08-5b1f-45b1-87e4-0096c03366b7",
   "metadata": {},
   "outputs": [],
   "source": [
    "# 2 Even or Odd Number\n",
    "# Write a program to input a number and check whether it is even or odd.\n"
   ]
  },
  {
   "cell_type": "code",
   "execution_count": 8,
   "id": "7db0fc53-0062-42d1-bbe7-500009e86be8",
   "metadata": {},
   "outputs": [
    {
     "name": "stdin",
     "output_type": "stream",
     "text": [
      "Enter a number:  5\n"
     ]
    },
    {
     "name": "stdout",
     "output_type": "stream",
     "text": [
      "5  is an odd number\n"
     ]
    }
   ],
   "source": [
    "num1=int(input(\"Enter a number: \"))\n",
    "print(num1,\" is an even number\") if num1%2==0 else print(num1,\" is an odd number\")"
   ]
  },
  {
   "cell_type": "code",
   "execution_count": 9,
   "id": "59d72b64-efa0-4530-836f-14900f8db6e8",
   "metadata": {},
   "outputs": [],
   "source": [
    "# 3 Check Vowel or Consonant\n",
    "# Input a single character and determine whether it is a vowel (a, e, i, o, u) or a consonant."
   ]
  },
  {
   "cell_type": "code",
   "execution_count": 11,
   "id": "39767e2e-d230-401c-a061-024771cf3050",
   "metadata": {},
   "outputs": [
    {
     "name": "stdin",
     "output_type": "stream",
     "text": [
      "Enter a single character:  t\n"
     ]
    },
    {
     "name": "stdout",
     "output_type": "stream",
     "text": [
      "t  is a consonant\n"
     ]
    }
   ],
   "source": [
    "char=input(\"Enter a single character: \")\n",
    "if char=='a' or char=='e' or char=='i' or char=='o' or char=='u':\n",
    "    print(char,\" is a vowel\")\n",
    "else:\n",
    "    print(char,\" is a consonant\")"
   ]
  },
  {
   "cell_type": "code",
   "execution_count": 12,
   "id": "bc742c3e-4c0e-4fb2-bf89-b712760b4fa7",
   "metadata": {},
   "outputs": [],
   "source": [
    "# 4 Check for Substring\n",
    "# Input two strings, s1 and s2, and check if s2 is a substring of s1.\n",
    "# Example:\n",
    "\n",
    "# Input: s1 = \"hello world\", s2 = \"world\"\n",
    "# Output: s2 is a substring of s1\n"
   ]
  },
  {
   "cell_type": "code",
   "execution_count": 15,
   "id": "916d1cf5-878d-425f-b29a-5b6d992f7fb4",
   "metadata": {},
   "outputs": [
    {
     "name": "stdin",
     "output_type": "stream",
     "text": [
      "Enter the first string:  hello\n",
      "Enter the second string:  v\n"
     ]
    },
    {
     "name": "stdout",
     "output_type": "stream",
     "text": [
      "v  is a substring of s1\n"
     ]
    }
   ],
   "source": [
    "s1=input(\"Enter the first string: \")\n",
    "s2=input(\"Enter the second string: \")\n",
    "if s1.find(s2):\n",
    "    print(s2,\" is a substring of s1\")\n",
    "else:\n",
    "    print(s2,\" is not a substring of s1\")"
   ]
  },
  {
   "cell_type": "code",
   "execution_count": null,
   "id": "76f01e6b-d01b-4016-aa04-0270aa31149d",
   "metadata": {},
   "outputs": [],
   "source": []
  }
 ],
 "metadata": {
  "kernelspec": {
   "display_name": "Python 3 (ipykernel)",
   "language": "python",
   "name": "python3"
  },
  "language_info": {
   "codemirror_mode": {
    "name": "ipython",
    "version": 3
   },
   "file_extension": ".py",
   "mimetype": "text/x-python",
   "name": "python",
   "nbconvert_exporter": "python",
   "pygments_lexer": "ipython3",
   "version": "3.13.1"
  }
 },
 "nbformat": 4,
 "nbformat_minor": 5
}
