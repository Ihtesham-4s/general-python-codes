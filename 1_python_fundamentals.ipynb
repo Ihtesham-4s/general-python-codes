{
 "cells": [
  {
   "cell_type": "markdown",
   "id": "b3abd48e-7916-4be1-977b-ac9123d5899d",
   "metadata": {},
   "source": [
    "# 1. Python Output "
   ]
  },
  {
   "cell_type": "code",
   "execution_count": 12,
   "id": "482fa9ba-df64-4277-a5a3-42c6f59e856c",
   "metadata": {},
   "outputs": [
    {
     "name": "stdout",
     "output_type": "stream",
     "text": [
      "Hello World\n",
      "Hello world, Hii Data Scientist Ihtesham"
     ]
    }
   ],
   "source": [
    "# python is a case sensitive language\n",
    "print(\"Hello World\")\n",
    "print(\"Hello world\",\"Hii Data Scientist\",sep=\", \",end=\" Ihtesham\")"
   ]
  },
  {
   "cell_type": "code",
   "execution_count": 13,
   "id": "f4bc6397-51c8-46d3-90d9-b25f020c991e",
   "metadata": {},
   "outputs": [
    {
     "name": "stdout",
     "output_type": "stream",
     "text": [
      "1.1\n"
     ]
    }
   ],
   "source": [
    "print(1.1)"
   ]
  },
  {
   "cell_type": "code",
   "execution_count": 15,
   "id": "20098d0d-0084-43ad-b0f4-36bad18ea794",
   "metadata": {},
   "outputs": [
    {
     "name": "stdout",
     "output_type": "stream",
     "text": [
      "True\n"
     ]
    }
   ],
   "source": [
    "print(True)"
   ]
  },
  {
   "cell_type": "markdown",
   "id": "556ee5c5-0884-49f2-9cb6-c672644bcf6b",
   "metadata": {},
   "source": [
    "# 2. Data Types "
   ]
  },
  {
   "cell_type": "code",
   "execution_count": 22,
   "id": "d6394067-49dd-4815-966f-a2bf2184ea14",
   "metadata": {},
   "outputs": [
    {
     "name": "stdout",
     "output_type": "stream",
     "text": [
      "8\n",
      "1e+308\n"
     ]
    }
   ],
   "source": [
    "# Integer\n",
    "print(8)\n",
    "# Maximum integer it can handle i.e 1*10^308\n",
    "print(1e308)"
   ]
  },
  {
   "cell_type": "code",
   "execution_count": 23,
   "id": "80cbd4a6-c4f8-4e4e-893c-777d97f83793",
   "metadata": {},
   "outputs": [
    {
     "name": "stdout",
     "output_type": "stream",
     "text": [
      "8.55\n",
      "1.7e+308\n"
     ]
    }
   ],
   "source": [
    "# Decimal/Float\n",
    "print(8.55)\n",
    "# Maximum flaot it can handle i.e 1.7*10^308\n",
    "print(1.7e308)"
   ]
  },
  {
   "cell_type": "code",
   "execution_count": 24,
   "id": "2fa44df3-11c9-440f-860b-e5d8f45c6cc3",
   "metadata": {},
   "outputs": [
    {
     "name": "stdout",
     "output_type": "stream",
     "text": [
      "True\n",
      "False\n"
     ]
    }
   ],
   "source": [
    "# Boolean\n",
    "print(True)\n",
    "print(False)"
   ]
  },
  {
   "cell_type": "code",
   "execution_count": 25,
   "id": "2bafc9cf-2e0d-47c0-a0dd-7d407ca6caad",
   "metadata": {},
   "outputs": [
    {
     "name": "stdout",
     "output_type": "stream",
     "text": [
      "Hello world\n"
     ]
    }
   ],
   "source": [
    "# String\n",
    "print(\"Hello world\")"
   ]
  },
  {
   "cell_type": "code",
   "execution_count": 27,
   "id": "3299b3d5-66ea-4e3e-8097-16a591e09abd",
   "metadata": {},
   "outputs": [
    {
     "name": "stdout",
     "output_type": "stream",
     "text": [
      "(5+6j)\n"
     ]
    }
   ],
   "source": [
    "# Complex numbers\n",
    "print(5+6j)"
   ]
  },
  {
   "cell_type": "code",
   "execution_count": 28,
   "id": "d4fb05e3-065b-4628-9027-c5c2d004b6e7",
   "metadata": {},
   "outputs": [
    {
     "name": "stdout",
     "output_type": "stream",
     "text": [
      "[1, 2, 3, 4, 5]\n"
     ]
    }
   ],
   "source": [
    "# List->Array\n",
    "print([1,2,3,4,5])"
   ]
  },
  {
   "cell_type": "code",
   "execution_count": 29,
   "id": "93e22be6-a150-4544-bb3d-472e56bf3ba5",
   "metadata": {},
   "outputs": [
    {
     "name": "stdout",
     "output_type": "stream",
     "text": [
      "(1, 2, 3, 4, 5)\n"
     ]
    }
   ],
   "source": [
    "# Tuple\n",
    "print((1,2,3,4,5))"
   ]
  },
  {
   "cell_type": "code",
   "execution_count": 30,
   "id": "cb250c56-b0c7-41ef-856b-5f3699f9a888",
   "metadata": {},
   "outputs": [
    {
     "name": "stdout",
     "output_type": "stream",
     "text": [
      "{1, 2, 3, 4, 5}\n"
     ]
    }
   ],
   "source": [
    "# Sets\n",
    "print({1,2,3,4,5})"
   ]
  },
  {
   "cell_type": "code",
   "execution_count": 31,
   "id": "e7d0da7e-bada-44e4-9203-1a6ad90882da",
   "metadata": {},
   "outputs": [
    {
     "name": "stdout",
     "output_type": "stream",
     "text": [
      "{'name': 'Ihteham', 'key': 'value'}\n"
     ]
    }
   ],
   "source": [
    "# Dictionary\n",
    "print({'name':'Ihteham','key':'value'})"
   ]
  },
  {
   "cell_type": "code",
   "execution_count": 35,
   "id": "a5e68e41-29b2-4b88-b846-4d86d1eee764",
   "metadata": {},
   "outputs": [
    {
     "data": {
      "text/plain": [
       "str"
      ]
     },
     "execution_count": 35,
     "metadata": {},
     "output_type": "execute_result"
    }
   ],
   "source": [
    "# Type Function (like which will tell you the datatype)\n",
    "type(\"hello\")\n"
   ]
  },
  {
   "cell_type": "code",
   "execution_count": 36,
   "id": "1d228be2-2faa-442a-8720-d352a87395fd",
   "metadata": {},
   "outputs": [
    {
     "data": {
      "text/plain": [
       "int"
      ]
     },
     "execution_count": 36,
     "metadata": {},
     "output_type": "execute_result"
    }
   ],
   "source": [
    "type(3)"
   ]
  },
  {
   "cell_type": "code",
   "execution_count": 37,
   "id": "377066a6-d205-4ffd-b461-37ba3a898284",
   "metadata": {},
   "outputs": [
    {
     "data": {
      "text/plain": [
       "list"
      ]
     },
     "execution_count": 37,
     "metadata": {},
     "output_type": "execute_result"
    }
   ],
   "source": [
    "type([1,2,3,4,5])"
   ]
  },
  {
   "cell_type": "code",
   "execution_count": 38,
   "id": "01b84832-62ba-4c54-8c53-b385f4feb923",
   "metadata": {},
   "outputs": [
    {
     "data": {
      "text/plain": [
       "tuple"
      ]
     },
     "execution_count": 38,
     "metadata": {},
     "output_type": "execute_result"
    }
   ],
   "source": [
    "type((1,2,3,4,5))"
   ]
  },
  {
   "cell_type": "markdown",
   "id": "a64d88f4-0294-4e41-aa22-9af800340b0a",
   "metadata": {},
   "source": [
    "# 3. Variables \n",
    "(variables are the continers that holds data for future use, like if a programmers doesn't know what will happen there)"
   ]
  },
  {
   "cell_type": "code",
   "execution_count": 40,
   "id": "609db604-356e-43da-abd1-deec5cd67d71",
   "metadata": {},
   "outputs": [
    {
     "name": "stdout",
     "output_type": "stream",
     "text": [
      "ihtesham\n",
      "5\n",
      "5.5\n"
     ]
    }
   ],
   "source": [
    "# In C++, like there we declare a variable using a proper syntax (i.e int variable_name = value)\n",
    "# But python is intelligent enough so we will not give the data type it finds the data type by itself\n",
    "\n",
    "name = \"ihtesham\"\n",
    "print(name)\n",
    "a = 5\n",
    "b = 5.5\n",
    "print(a)\n",
    "print(b)"
   ]
  },
  {
   "cell_type": "code",
   "execution_count": 41,
   "id": "d976c0a6-d427-4472-b415-3952e1b67bf1",
   "metadata": {},
   "outputs": [],
   "source": [
    "# Dynamic Typing (like it is a concept where we donot explicitly tell the data type of the variable)\n",
    "a = 5\n",
    "\n",
    "# Static Typing (like where we tells the data type explicitly)\n",
    "# int a = 5 (like in other programming languages)\n",
    "\n",
    "# python follows Dynamic Typing  \n"
   ]
  },
  {
   "cell_type": "code",
   "execution_count": 43,
   "id": "bff5404e-60d1-4f29-80fc-420d39f46322",
   "metadata": {},
   "outputs": [
    {
     "name": "stdout",
     "output_type": "stream",
     "text": [
      "5\n",
      "ihtesham\n"
     ]
    }
   ],
   "source": [
    "# Dynmaic Binding (like to a same variable we can assign different types of values during execution)\n",
    "a=5\n",
    "print(a)\n",
    "a=\"ihtesham\"\n",
    "print(a)\n",
    "\n",
    "# Static Binding (like if we tell that the 'a' is a integer then throughout the program the it will holds the integers)\n",
    "# int a  = 5 , so this 'a' will store only integers "
   ]
  },
  {
   "cell_type": "code",
   "execution_count": 46,
   "id": "03269ce7-5879-4d78-a960-d6ca0fb9bb92",
   "metadata": {},
   "outputs": [
    {
     "name": "stdout",
     "output_type": "stream",
     "text": [
      "1 2 3\n",
      "5 5 5\n"
     ]
    }
   ],
   "source": [
    "# Different stylish ways to create a variables\n",
    "a,b,c=1,2,3\n",
    "print(a,b,c)\n",
    "\n",
    "a=b=c=5 #giving the same value to all the variables\n",
    "print(a,b,c)"
   ]
  },
  {
   "cell_type": "markdown",
   "id": "dcba59b3-4f5a-4cb2-a447-bfbcf9819f31",
   "metadata": {},
   "source": [
    "# 4. Keywords & Identifiers"
   ]
  },
  {
   "cell_type": "code",
   "execution_count": 1,
   "id": "c3589e63-23f2-4a48-bc45-218842385f14",
   "metadata": {},
   "outputs": [],
   "source": [
    "# compilation is a process where you convert high level code into machine language during compile time or a whole program is converted\n",
    "# python is a interpreted language (it converts high level code into machine language line by line where as compiler converts it a whole program)\n",
    "# keywords (there are certain words which is reserved by the interpreter, like print is a word that helps the interpreter that user wants to print)\n",
    "\n"
   ]
  },
  {
   "cell_type": "code",
   "execution_count": 50,
   "id": "9acb033d-16b3-4c6e-ac65-2a55454a4c1b",
   "metadata": {},
   "outputs": [
    {
     "name": "stdout",
     "output_type": "stream",
     "text": [
      "Ihtesham\n",
      "ihtesham\n"
     ]
    }
   ],
   "source": [
    "# Identifiers \n",
    "# An identifier is a name given to a variable, function, class, module, or other objects.\n",
    "# Identifiers are used to uniquely identify these entities in the code.\n",
    "# 1. Cannot start with a digit\n",
    "name1 = \"Ihtesham\"\n",
    "print(name1)\n",
    "\n",
    "# 2. Can use a special character (_)\n",
    "_='ihtesham'\n",
    "print(_)\n"
   ]
  },
  {
   "cell_type": "markdown",
   "id": "d54a2c7e-f770-48e6-9c5d-a9cf2a1a0e6b",
   "metadata": {},
   "source": [
    "# 5. User Input"
   ]
  },
  {
   "cell_type": "code",
   "execution_count": 2,
   "id": "dd2ae14c-ebe4-4776-a933-3e52e45189b0",
   "metadata": {},
   "outputs": [
    {
     "name": "stdin",
     "output_type": "stream",
     "text": [
      "Enter a number:  5\n",
      "Enter your name:  ihtesham\n"
     ]
    },
    {
     "name": "stdout",
     "output_type": "stream",
     "text": [
      "5 ihtesham\n"
     ]
    }
   ],
   "source": [
    "# Static vs Dynamic\n",
    "# Like in static we dont need the user input like just showing the output to the users but in dynamic we take input from users\n",
    "# Python input function always return the value as string like if we input the integer it will be return as string not integer, so for that we are using explicitly typecasting.\n",
    "a = int(input(\"Enter a number: \"))\n",
    "b = input('Enter your name: ')\n",
    "print(a,b)"
   ]
  },
  {
   "cell_type": "markdown",
   "id": "94da706d-e161-43d6-9910-f15382fbf89c",
   "metadata": {},
   "source": [
    "# Program (Add 2 numbers)"
   ]
  },
  {
   "cell_type": "code",
   "execution_count": 3,
   "id": "15321ac4-2778-48dc-a787-f6d7c8b9bbdb",
   "metadata": {},
   "outputs": [
    {
     "name": "stdin",
     "output_type": "stream",
     "text": [
      "Enter the first number:  2\n",
      "Enter the second number:  3\n"
     ]
    },
    {
     "name": "stdout",
     "output_type": "stream",
     "text": [
      "Sum of two numbers:  5\n"
     ]
    }
   ],
   "source": [
    "a = int(input(\"Enter the first number: \"))\n",
    "b = int(input(\"Enter the second number: \"))\n",
    "result = a+b\n",
    "print(\"Sum of two numbers: \",result)"
   ]
  },
  {
   "cell_type": "markdown",
   "id": "a5ad0e4a-0dde-489b-be80-e4c7cbabc23f",
   "metadata": {},
   "source": [
    "# 6. Type Conversion"
   ]
  },
  {
   "cell_type": "code",
   "execution_count": 20,
   "id": "72c81e25-8d5c-4907-906f-9a0436ff41d9",
   "metadata": {},
   "outputs": [
    {
     "name": "stdout",
     "output_type": "stream",
     "text": [
      "10.6\n",
      "<class 'int'> <class 'float'>\n"
     ]
    },
    {
     "data": {
      "text/plain": [
       "float"
      ]
     },
     "execution_count": 20,
     "metadata": {},
     "output_type": "execute_result"
    }
   ],
   "source": [
    "# why python stores input as string because string is a universal data format like it can store int,float, complex nos etc but int cannot store string \n",
    "# Implicit Type Conversion: It is a type conversion like where interpreter internally converts the data type.\n",
    "# Example\n",
    "print(5+5.6)\n",
    "print(type(5),type(5.6)) #like if you see there it should throw a error bcz we are adding two different types of data types but it is not due to the implicit conversion of data type \n",
    "\n",
    "# There are certain situation where implicit conversion cannot be applied i.e\n",
    "# print(5+'4')\n",
    "\n",
    "# To solve this problem we will use explicit typeconversion\n",
    "# str into int\n",
    "type(int('4'))\n",
    "\n",
    "# But you can't convert complex numbers into int\n",
    "# int(4+5j)\n",
    "\n",
    "# int to str\n",
    "type(str(5))\n",
    "\n",
    "# float\n",
    "type(float(4))\n",
    "\n",
    "# python typeconversion does not change the original variable instead it creates a new object and we work on new object not on the original one.  \n",
    "# In other languages it is typecasting where it permanently change the original variable."
   ]
  },
  {
   "cell_type": "markdown",
   "id": "a35325af-30b8-474f-8489-0f5efb12cbb4",
   "metadata": {},
   "source": [
    "# 7. Literals"
   ]
  },
  {
   "cell_type": "code",
   "execution_count": 14,
   "id": "f1cca82c-f559-4621-affe-b4b1873898d6",
   "metadata": {},
   "outputs": [
    {
     "name": "stdout",
     "output_type": "stream",
     "text": [
      "4\n",
      "4 100 200 300\n",
      "10.5 150.0 0.0015\n",
      "3.14j 3.14 0.0\n"
     ]
    }
   ],
   "source": [
    "# Literals are the values which is stored in the variables like (a=5) here a is variable and 5 is literal.\n",
    "\n",
    "a = 0b0100 #binary literals \n",
    "print(a) #it should print 4\n",
    "\n",
    "b = 100 #Decimal literal (default representation)\n",
    "c = 0o310 #octal representation\n",
    "d = 0x12c #hexadecimal represntation\n",
    "\n",
    "# Float Literals\n",
    "float_1 = 10.5\n",
    "float_2 = 1.5e2 #(1.5 * 10^2)\n",
    "float_3 = 1.5e-3 #(1.5 * 10^-3)\n",
    "\n",
    "# Complex Literal\n",
    "x = 3.14j # can print only the imaginary number also\n",
    "\n",
    "print(a,b,c,d)\n",
    "print(float_1,float_2,float_3)\n",
    "print(x,x.imag,x.real)"
   ]
  },
  {
   "cell_type": "code",
   "execution_count": 17,
   "id": "f3b83782-9b5b-4281-8fc9-ebb806f1c262",
   "metadata": {},
   "outputs": [
    {
     "name": "stdout",
     "output_type": "stream",
     "text": [
      "ihtesham\n",
      "ihtesham\n",
      "C\n"
     ]
    }
   ],
   "source": [
    "string = 'ihtesham'\n",
    "string1 = \"ihtesham\"\n",
    "char = \"C\"\n",
    "multiline_str = \"\"\"This is a multiline string more than one line code.\"\"\"\n",
    "\n",
    "\n",
    "print(string)\n",
    "print(string1)\n",
    "print(char)"
   ]
  },
  {
   "cell_type": "code",
   "execution_count": 18,
   "id": "b2fdefa1-c252-4cd0-905f-45888f66d0c2",
   "metadata": {},
   "outputs": [
    {
     "name": "stdout",
     "output_type": "stream",
     "text": [
      "5 10\n"
     ]
    }
   ],
   "source": [
    "a = True + 4\n",
    "b = False + 10\n",
    "print(a,b)"
   ]
  },
  {
   "cell_type": "code",
   "execution_count": 19,
   "id": "4e1d0bc2-a788-4105-9f7b-6846b01b5d77",
   "metadata": {},
   "outputs": [
    {
     "name": "stdout",
     "output_type": "stream",
     "text": [
      "None\n"
     ]
    }
   ],
   "source": [
    "a = None\n",
    "print(a) #like it can be simply used for variable decaration"
   ]
  },
  {
   "cell_type": "markdown",
   "id": "1bfd36ad-6d0b-4120-be12-51f593e0c717",
   "metadata": {},
   "source": []
  },
  {
   "cell_type": "code",
   "execution_count": null,
   "id": "9b5cd14e-94e9-42e4-8035-402baed1a8b2",
   "metadata": {},
   "outputs": [],
   "source": []
  }
 ],
 "metadata": {
  "kernelspec": {
   "display_name": "Python 3 (ipykernel)",
   "language": "python",
   "name": "python3"
  },
  "language_info": {
   "codemirror_mode": {
    "name": "ipython",
    "version": 3
   },
   "file_extension": ".py",
   "mimetype": "text/x-python",
   "name": "python",
   "nbconvert_exporter": "python",
   "pygments_lexer": "ipython3",
   "version": "3.13.1"
  }
 },
 "nbformat": 4,
 "nbformat_minor": 5
}
