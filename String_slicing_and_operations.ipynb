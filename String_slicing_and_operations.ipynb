{
 "cells": [
  {
   "cell_type": "raw",
   "id": "aada9c70-ea26-4e2e-b0c9-a228ea314834",
   "metadata": {},
   "source": [
    "Slicing of a String:\n",
    "--> For slicing we will use []\n",
    "--> slicing means like accessing the string to a specific index"
   ]
  },
  {
   "cell_type": "code",
   "execution_count": 80,
   "id": "35d27de9-afe2-47bb-8476-207b0893feb9",
   "metadata": {
    "scrolled": true
   },
   "outputs": [
    {
     "name": "stdout",
     "output_type": "stream",
     "text": [
      "Ihtesha\n"
     ]
    }
   ],
   "source": [
    "a=\"Ihtesham\" #here length of string = 8\n",
    "n=len(a)\n",
    "print(a[0:n-1]) #start from index 0 and ends at index 7 but does not include the character at index 7"
   ]
  },
  {
   "cell_type": "code",
   "execution_count": 81,
   "id": "c7d57f6b-31e3-4880-9ef7-664d30f9f6f0",
   "metadata": {},
   "outputs": [
    {
     "name": "stdout",
     "output_type": "stream",
     "text": [
      "Ihtes\n"
     ]
    }
   ],
   "source": [
    "print(a[:5]) #automatically starts from zero but it does not include the index 5 like it is from 0 to 4 because here n=5 so n-1 =4"
   ]
  },
  {
   "cell_type": "code",
   "execution_count": 82,
   "id": "be5437b4-3dae-42de-b218-26ed192e2778",
   "metadata": {},
   "outputs": [
    {
     "name": "stdout",
     "output_type": "stream",
     "text": [
      "Ihtes\n"
     ]
    }
   ],
   "source": [
    "print(a[:-3]) #it prints 'ihtes' because python treated it as a print(a[0:len(a)-3])"
   ]
  },
  {
   "cell_type": "code",
   "execution_count": 83,
   "id": "b3efdc7d-aa6d-4cac-a801-225d7587b436",
   "metadata": {},
   "outputs": [
    {
     "name": "stdout",
     "output_type": "stream",
     "text": [
      "ha\n"
     ]
    }
   ],
   "source": [
    "print(a[len(a)-3:len(a)-1]) #it starts from 5 and ends at 7 "
   ]
  },
  {
   "cell_type": "code",
   "execution_count": 84,
   "id": "3390a194-8638-4b34-b476-a1943a480a53",
   "metadata": {},
   "outputs": [
    {
     "name": "stdout",
     "output_type": "stream",
     "text": [
      "\n"
     ]
    }
   ],
   "source": [
    "print(a[-5:1]) #it does not print anything bcx there we go from index 3 to index 1 like in reverse order"
   ]
  },
  {
   "cell_type": "raw",
   "id": "b1c1d0f9-f5e4-4b2f-a801-9f53c512a083",
   "metadata": {},
   "source": [
    "Multipleline String"
   ]
  },
  {
   "cell_type": "code",
   "execution_count": 85,
   "id": "55307a6d-9f68-4fdd-97d1-c5c4325842a2",
   "metadata": {},
   "outputs": [
    {
     "name": "stdout",
     "output_type": "stream",
     "text": [
      "Hello my name is ihtesham and I am from Kohat\n"
     ]
    }
   ],
   "source": [
    "b=\"Hello my name is ihtesham and I am from Kohat\"\n",
    "\"BS 5th semester student\"\n",
    "print(b) #like it print this in one line "
   ]
  },
  {
   "cell_type": "code",
   "execution_count": 86,
   "id": "87a7c54a-63fb-4982-b7d1-2fa8484f51cd",
   "metadata": {},
   "outputs": [
    {
     "name": "stdout",
     "output_type": "stream",
     "text": [
      "Hello my name is ihteham\n",
      "and I'm bscs 5th semester student\n"
     ]
    }
   ],
   "source": [
    "b='''Hello my name is ihteham\n",
    "and I\\'m bscs 5th semester student'''\n",
    "print(b) #it will be display as it is written"
   ]
  },
  {
   "cell_type": "code",
   "execution_count": 87,
   "id": "5202ec5a-e457-4853-8d5f-c62cfca7f4b5",
   "metadata": {},
   "outputs": [
    {
     "name": "stdin",
     "output_type": "stream",
     "text": [
      "Enter your name:  ihtesham\n"
     ]
    }
   ],
   "source": [
    "b=input(\"Enter your name: \" )"
   ]
  },
  {
   "cell_type": "raw",
   "id": "a1f93e39-c628-4566-8b52-ca8b141da918",
   "metadata": {},
   "source": [
    "String Methods:"
   ]
  },
  {
   "cell_type": "code",
   "execution_count": 88,
   "id": "90534db0-c280-4c9e-907d-35a72491c3a5",
   "metadata": {},
   "outputs": [
    {
     "name": "stdout",
     "output_type": "stream",
     "text": [
      "Hello\n",
      "hello\n"
     ]
    }
   ],
   "source": [
    "#1 rstrip() it removes the trailing characters at the end like if we specified it in the function like 'white spaces and ! etc'\n",
    "c=\"Hello!!!\"\n",
    "print(c.rstrip(\"!\"))\n",
    "d=\"hello   \"\n",
    "print(d.rstrip(\" \"))"
   ]
  },
  {
   "cell_type": "code",
   "execution_count": 89,
   "id": "e1638f42-8a6e-44d2-bacd-9c401ef2adce",
   "metadata": {},
   "outputs": [
    {
     "name": "stdout",
     "output_type": "stream",
     "text": [
      "Hello\n"
     ]
    }
   ],
   "source": [
    "#2 strip() it removes all the leading and trailing characters\n",
    "c=\"!!!Hello!\"\n",
    "print(c.strip(\"!\")) #atmost 1 argument can be there "
   ]
  },
  {
   "cell_type": "code",
   "execution_count": 90,
   "id": "c9e46631-2c1c-4b7b-95b5-2e6aa029fe18",
   "metadata": {},
   "outputs": [
    {
     "name": "stdout",
     "output_type": "stream",
     "text": [
      "Hii\n"
     ]
    }
   ],
   "source": [
    "#3 replace() it replaces all the occurances of one string with another one\n",
    "c=\"Hello\"\n",
    "print(c.replace(\"Hello\",\"Hii\"))"
   ]
  },
  {
   "cell_type": "code",
   "execution_count": 91,
   "id": "312bb8bd-7d60-4a61-90fc-efa1b48d6c0a",
   "metadata": {},
   "outputs": [
    {
     "name": "stdout",
     "output_type": "stream",
     "text": [
      "['Ihtesham', 'Ahmad']\n"
     ]
    }
   ],
   "source": [
    "#4 split() it splits the given string at specified character/instace and returns the separated string as the list items\n",
    "a=\"Ihtesham Ahmad\"\n",
    "print(a.split(\" \"))"
   ]
  },
  {
   "cell_type": "code",
   "execution_count": 92,
   "id": "6c060b30-b8ab-4c71-9ea0-dc4190163568",
   "metadata": {},
   "outputs": [
    {
     "name": "stdout",
     "output_type": "stream",
     "text": [
      "Ihtesham\n"
     ]
    }
   ],
   "source": [
    "#5 capitalize() it capitalize the first character of a string and all other characters to the lowercase\n",
    "a=\"iHTESHaM\"\n",
    "print(a.capitalize())"
   ]
  },
  {
   "cell_type": "code",
   "execution_count": 93,
   "id": "f9796889-ecb9-4301-bbd5-c2ddc972021b",
   "metadata": {},
   "outputs": [
    {
     "name": "stdout",
     "output_type": "stream",
     "text": [
      "                                              IHTESHAM                                              \n",
      ",,,,,,,,,,,,,,,,,,,,,,,,,,,,,,,,,,,,,,,,,,,,,,Ihtesham,,,,,,,,,,,,,,,,,,,,,,,,,,,,,,,,,,,,,,,,,,,,,,\n"
     ]
    }
   ],
   "source": [
    "#6 ceneter() it aligns the string to the center as per the parameters given\n",
    "a=\"IHTESHAM\"\n",
    "print(a.center(100))\n",
    "a=\"Ihtesham\"\n",
    "print(a.center(100,\",\")) #50,50 from each side"
   ]
  },
  {
   "cell_type": "code",
   "execution_count": 95,
   "id": "1205c087-e4c7-4875-9e71-bf31a04db9c7",
   "metadata": {},
   "outputs": [
    {
     "name": "stdout",
     "output_type": "stream",
     "text": [
      "True\n"
     ]
    }
   ],
   "source": [
    "# 7 endswith() it checks if the string ends with the given value at function, if yes then returns true otherwise fale \n",
    "a=\"Ihtesham\"\n",
    "print(a.endswith(\"m\"))"
   ]
  },
  {
   "cell_type": "code",
   "execution_count": 96,
   "id": "d0ecdf07-c913-48b4-bc04-c1eb478b22d2",
   "metadata": {},
   "outputs": [
    {
     "name": "stdout",
     "output_type": "stream",
     "text": [
      "14\n"
     ]
    }
   ],
   "source": [
    "# 8 find() it searches for the first occurance of a given string and returns index if finds i=otherwise -1\n",
    "a=\"Hello my name is ihtesham ahmad, and i am from pakistan\"\n",
    "print(a.find(\"i\"))"
   ]
  },
  {
   "cell_type": "code",
   "execution_count": 99,
   "id": "4cabdf38-2575-4446-9115-b3ff415903bd",
   "metadata": {},
   "outputs": [
    {
     "ename": "ValueError",
     "evalue": "substring not found",
     "output_type": "error",
     "traceback": [
      "\u001b[1;31m---------------------------------------------------------------------------\u001b[0m",
      "\u001b[1;31mValueError\u001b[0m                                Traceback (most recent call last)",
      "Cell \u001b[1;32mIn[99], line 4\u001b[0m\n\u001b[0;32m      1\u001b[0m \u001b[38;5;66;03m# 9 index() here is also searches for a specific string and return the index of the first occurance if finds but if not find then \u001b[39;00m\n\u001b[0;32m      2\u001b[0m \u001b[38;5;66;03m# it returns an exception not -1\u001b[39;00m\n\u001b[0;32m      3\u001b[0m a\u001b[38;5;241m=\u001b[39m\u001b[38;5;124m\"\u001b[39m\u001b[38;5;124mHello my name is ihtesham\u001b[39m\u001b[38;5;124m\"\u001b[39m\n\u001b[1;32m----> 4\u001b[0m \u001b[38;5;28mprint\u001b[39m(\u001b[43ma\u001b[49m\u001b[38;5;241;43m.\u001b[39;49m\u001b[43mindex\u001b[49m\u001b[43m(\u001b[49m\u001b[38;5;124;43m\"\u001b[39;49m\u001b[38;5;124;43mIhtesham\u001b[39;49m\u001b[38;5;124;43m\"\u001b[39;49m\u001b[43m)\u001b[49m)\n",
      "\u001b[1;31mValueError\u001b[0m: substring not found"
     ]
    }
   ],
   "source": [
    "# 9 index() here is also searches for a specific string and return the index of the first occurance if finds but if not find then \n",
    "# it returns an exception not -1\n",
    "a=\"Hello my name is ihtesham\"\n",
    "print(a.index(\"ahmad\"))"
   ]
  },
  {
   "cell_type": "raw",
   "id": "2555467c-bbc1-4a26-9068-00bb14df33b8",
   "metadata": {},
   "source": [
    "Tracebook is a record where interpreter run into problem when trying to execute the code."
   ]
  },
  {
   "cell_type": "code",
   "execution_count": 102,
   "id": "604a4ea1-154e-4fb8-b359-e962326d2dc4",
   "metadata": {},
   "outputs": [
    {
     "name": "stdout",
     "output_type": "stream",
     "text": [
      "True\n",
      "False\n"
     ]
    }
   ],
   "source": [
    "# 10 isalnum() it returns true only if the entire string consists of 'a-z' or 'A-Z' or '0-9' and also for space it returns false\n",
    "a=\"ihteshamAhmad123\"\n",
    "print(a.isalnum())\n",
    "a=\"ihtesham ahmad\"\n",
    "print(a.isalnum())"
   ]
  },
  {
   "cell_type": "code",
   "execution_count": 103,
   "id": "be1ad1c2-7574-4dcc-b556-7491f0c455c1",
   "metadata": {},
   "outputs": [],
   "source": [
    "# 11 isalpha() same as isalnum() but it does not include numbers\n"
   ]
  },
  {
   "cell_type": "code",
   "execution_count": 104,
   "id": "8f8b9329-b5aa-4f8b-a451-27dc4b07a3a6",
   "metadata": {},
   "outputs": [
    {
     "name": "stdout",
     "output_type": "stream",
     "text": [
      "True\n"
     ]
    }
   ],
   "source": [
    "# 12 islower() returns true if all characters in a string is in lowercase\n",
    "a=\"ihtesham ahmad\"\n",
    "print(a.islower())"
   ]
  },
  {
   "cell_type": "code",
   "execution_count": 105,
   "id": "d8e3936c-318d-468d-942e-bfab0474277b",
   "metadata": {},
   "outputs": [
    {
     "name": "stdout",
     "output_type": "stream",
     "text": [
      "True\n"
     ]
    }
   ],
   "source": [
    "# 12 isupper() returns true if all characters in a string is in uppercase\n",
    "a=\"IHTESHAM\"\n",
    "print(a.isupper())"
   ]
  },
  {
   "cell_type": "code",
   "execution_count": 108,
   "id": "da6ae2ec-fc44-42d6-aaf9-44fdefb3c708",
   "metadata": {},
   "outputs": [
    {
     "name": "stdout",
     "output_type": "stream",
     "text": [
      "True\n",
      "False\n"
     ]
    }
   ],
   "source": [
    "# 13 isprintable() returns true if all characters in a string is printable otherwise false\n",
    "a=\"ihtesham ahmad\"\n",
    "print(a.isprintable())\n",
    "a=\"ihtesham \\n ahmad\"\n",
    "print(a.isprintable())"
   ]
  },
  {
   "cell_type": "code",
   "execution_count": 111,
   "id": "75476405-2cdc-49cf-b147-9e1430f89cdf",
   "metadata": {},
   "outputs": [
    {
     "name": "stdout",
     "output_type": "stream",
     "text": [
      "True\n",
      "True\n",
      "False\n",
      "False\n"
     ]
    }
   ],
   "source": [
    "# 14 isspace() returns true if the string contains white spaces otherwise false\n",
    "# Example 1: String with spaces only\n",
    "s1 = \"   \"\n",
    "print(s1.isspace())  # Output: True\n",
    "\n",
    "# Example 2: String with tab and newline characters\n",
    "s2 = \"\\t\\n\"\n",
    "print(s2.isspace())  # Output: True\n",
    "\n",
    "# Example 3: String with mixed characters\n",
    "s3 = \"  Hello  \"\n",
    "print(s3.isspace())  # Output: False\n",
    "\n",
    "# Example 4: Empty string\n",
    "s4 = \"\"\n",
    "print(s4.isspace())  # Output: False\n"
   ]
  },
  {
   "cell_type": "code",
   "execution_count": 112,
   "id": "370766dc-55ee-461f-9666-078db5fac36f",
   "metadata": {},
   "outputs": [
    {
     "name": "stdout",
     "output_type": "stream",
     "text": [
      "True\n",
      "False\n"
     ]
    }
   ],
   "source": [
    "# 15 istitle() returns true if the first letter of each word is capitalize otherwise false\n",
    "a=\"Ihtesham Ahmad\"\n",
    "print(a.istitle())\n",
    "a=\"Ihtsham ahmad\"\n",
    "print(a.istitle())"
   ]
  },
  {
   "cell_type": "code",
   "execution_count": 115,
   "id": "c696c4da-6003-4e64-8ac6-3b491d6c08db",
   "metadata": {},
   "outputs": [
    {
     "name": "stdout",
     "output_type": "stream",
     "text": [
      "True\n"
     ]
    }
   ],
   "source": [
    "# 16 startswith() checks if the string starts with a specific value given in ()\n",
    "a=\"Ihtesham Ahmad\"\n",
    "print(a.startswith(\"I\"))"
   ]
  },
  {
   "cell_type": "code",
   "execution_count": 116,
   "id": "71c07249-d85d-46f2-b1f6-db0893974b75",
   "metadata": {},
   "outputs": [
    {
     "name": "stdout",
     "output_type": "stream",
     "text": [
      "iHTESHAM aHMAD\n"
     ]
    }
   ],
   "source": [
    "# 17 swapcase() converts lowercase to uppercase and viceverse\n",
    "a=\"Ihtesham Ahmad\"\n",
    "print(a.swapcase())"
   ]
  },
  {
   "cell_type": "code",
   "execution_count": 118,
   "id": "80e9720f-e552-4f21-9a2e-1bb5049df382",
   "metadata": {},
   "outputs": [
    {
     "name": "stdout",
     "output_type": "stream",
     "text": [
      "Ihtesham Ahmad\n"
     ]
    }
   ],
   "source": [
    "# 18 title() capitalize the first letter of each word\n",
    "a=\"ihtesham ahmad\"\n",
    "print(a.title())"
   ]
  },
  {
   "cell_type": "code",
   "execution_count": 119,
   "id": "ed24a959-917f-4b71-9d39-decfd2ee5646",
   "metadata": {},
   "outputs": [
    {
     "name": "stdout",
     "output_type": "stream",
     "text": [
      "ihtesham\n"
     ]
    }
   ],
   "source": [
    "# 19 lower() converts all the letters into lowercase\n",
    "a=\"IHTESHAM\"\n",
    "print(a.lower())"
   ]
  },
  {
   "cell_type": "code",
   "execution_count": 120,
   "id": "e072e836-ceee-4aee-b57f-4b1bd5a00338",
   "metadata": {},
   "outputs": [
    {
     "name": "stdout",
     "output_type": "stream",
     "text": [
      "IHTESHAM\n"
     ]
    }
   ],
   "source": [
    "# 20 upper() converts all the letters into uppercase\n",
    "a=\"ihtesham\"\n",
    "print(a.upper())"
   ]
  },
  {
   "cell_type": "code",
   "execution_count": null,
   "id": "15d19d27-8cf8-4525-b7fb-b0b81a9aff8b",
   "metadata": {},
   "outputs": [],
   "source": []
  }
 ],
 "metadata": {
  "kernelspec": {
   "display_name": "Python 3 (ipykernel)",
   "language": "python",
   "name": "python3"
  },
  "language_info": {
   "codemirror_mode": {
    "name": "ipython",
    "version": 3
   },
   "file_extension": ".py",
   "mimetype": "text/x-python",
   "name": "python",
   "nbconvert_exporter": "python",
   "pygments_lexer": "ipython3",
   "version": "3.13.1"
  }
 },
 "nbformat": 4,
 "nbformat_minor": 5
}
